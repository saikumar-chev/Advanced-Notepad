{
  "nbformat": 4,
  "nbformat_minor": 0,
  "metadata": {
    "colab": {
      "name": "LATS_demo.ipynb",
      "provenance": [],
      "private_outputs": true,
      "gpuType": "T4",
      "include_colab_link": true
    },
    "kernelspec": {
      "name": "python3",
      "display_name": "Python 3"
    },
    "accelerator": "GPU"
  },
  "cells": [
    {
      "cell_type": "markdown",
      "metadata": {
        "id": "view-in-github",
        "colab_type": "text"
      },
      "source": [
        "<a href=\"https://colab.research.google.com/github/saikumar-chev/Advanced-Notepad/blob/main/LATS_demo.ipynb\" target=\"_parent\"><img src=\"https://colab.research.google.com/assets/colab-badge.svg\" alt=\"Open In Colab\"/></a>"
      ]
    },
    {
      "cell_type": "markdown",
      "metadata": {
        "id": "Jny9CGNw1Rjn"
      },
      "source": [
        "# Lifespan Age Transformation Synthesis Demo\n",
        "\n",
        "This Colab notebook demonstrates the capabilities of the GAN architecture proposed in our paper.\n",
        "\n",
        "This colab lets you try our method on your own image!"
      ]
    },
    {
      "cell_type": "markdown",
      "metadata": {
        "id": "NhbnEdCV2kc-"
      },
      "source": [
        "First, let's download the github repository and install all dependencies."
      ]
    },
    {
      "cell_type": "code",
      "metadata": {
        "id": "J2uubo7PsvxQ"
      },
      "source": [
        "!git clone https://github.com/royorel/Lifespan_Age_Transformation_Synthesis\n",
        "%cd Lifespan_Age_Transformation_Synthesis/\n",
        "!pip3 install -r requirements.txt"
      ],
      "execution_count": null,
      "outputs": []
    },
    {
      "cell_type": "markdown",
      "metadata": {
        "id": "GKKNh_xl3AI2"
      },
      "source": [
        "Now let's download the pretrained models for males and females."
      ]
    },
    {
      "cell_type": "code",
      "metadata": {
        "id": "3ezAOkaHw4Q_"
      },
      "source": [
        "!python download_models.py"
      ],
      "execution_count": null,
      "outputs": []
    },
    {
      "cell_type": "markdown",
      "metadata": {
        "id": "nKl8INdX3IHv"
      },
      "source": [
        "Here, we import libraries and set options."
      ]
    },
    {
      "cell_type": "code",
      "metadata": {
        "id": "rQKoh2xrw697"
      },
      "source": [
        "import os\n",
        "from collections import OrderedDict\n",
        "from options.test_options import TestOptions\n",
        "from data.data_loader import CreateDataLoader\n",
        "from models.models import create_model\n",
        "import util.util as util\n",
        "from util.visualizer import Visualizer\n",
        "\n",
        "opt = TestOptions().parse(save=False)\n",
        "opt.display_id = 0 # do not launch visdom\n",
        "opt.nThreads = 1   # test code only supports nThreads = 1\n",
        "opt.batchSize = 1  # test code only supports batchSize = 1\n",
        "opt.serial_batches = True  # no shuffle\n",
        "opt.no_flip = True  # no flip\n",
        "opt.in_the_wild = True # This triggers preprocessing of in the wild images in the dataloader\n",
        "opt.traverse = True # This tells the model to traverse the latent space between anchor classes\n",
        "opt.interp_step = 0.05 # this controls the number of images to interpolate between anchor classes"
      ],
      "execution_count": null,
      "outputs": []
    },
    {
      "cell_type": "markdown",
      "metadata": {
        "id": "TLOiDzgKtYyi"
      },
      "source": [
        "Don't worry about this message above,\n",
        "```\n",
        "ipykernel_launcher.py: error: unrecognized arguments: -f /root/.local/share/jupyter/runtime/kernel-c9d47a98-bdba-4a5f-9f0a-e1437c7228b6.json\n",
        "```\n",
        "everything is perfectly fine..."
      ]
    },
    {
      "cell_type": "markdown",
      "metadata": {
        "id": "4AFlzSi41Kzg"
      },
      "source": [
        "Next on, we call the data loader and the visualizer class that generates the video from the network outputs."
      ]
    },
    {
      "cell_type": "code",
      "metadata": {
        "id": "gxBYeTB18zkZ"
      },
      "source": [
        "data_loader = CreateDataLoader(opt)\n",
        "dataset = data_loader.load_data()\n",
        "visualizer = Visualizer(opt)"
      ],
      "execution_count": null,
      "outputs": []
    },
    {
      "cell_type": "markdown",
      "metadata": {
        "id": "-AbUVdK74G5p"
      },
      "source": [
        "Here, we define our model.\n",
        "\n",
        "NOTE: if you plan to try the method for a female, change opt.name to 'females_model'."
      ]
    },
    {
      "cell_type": "code",
      "metadata": {
        "id": "O_0RChfq0YPr"
      },
      "source": [
        "opt.name = 'males_model' # change to 'females_model' if you're trying the code on a female image\n",
        "model = create_model(opt)\n",
        "model.eval()"
      ],
      "execution_count": null,
      "outputs": []
    },
    {
      "cell_type": "markdown",
      "metadata": {
        "id": "APhLIBEg4gnk"
      },
      "source": [
        "OK, it's time to upload your image.\n",
        "\n",
        "For best results, use images according to the following guidelines:\n",
        "\n",
        "1. The image should contain a single face.\n",
        "2. Image was taken from a digital camera (phone cameras are fine). Old images from film cameras would produce low quality results.\n",
        "3. Pure RGB images only. No black & white, grayscale, sepia, or filtered images (e.g. Instagram filters).\n",
        "4. Person's head should directly face the camera. Looking sideways/downwards/upwards degrades the results.\n",
        "5. The person's face should not be occluded (or partially occluded) by any item.\n",
        "6. Both eyes should be open and visible. (eyeglasses are ok, no sunglasses)\n",
        "\n",
        "Your uploaded images are local to the Colab instance and are not accessible by the paper authors"
      ]
    },
    {
      "cell_type": "code",
      "metadata": {
        "id": "TSUbmd697Api"
      },
      "source": [
        "# upload your image (the code supports only a single image at a time)\n",
        "from google.colab import files\n",
        "uploaded = files.upload()\n",
        "for filename in uploaded.keys():\n",
        "  img_path = filename\n",
        "  print('User uploaded file \"{name}\"'.format(name=filename))"
      ],
      "execution_count": null,
      "outputs": []
    },
    {
      "cell_type": "markdown",
      "metadata": {
        "id": "AgxXQ4tu45V5"
      },
      "source": [
        "Finally, we preprocess the image, run the network, and save the result."
      ]
    },
    {
      "cell_type": "code",
      "source": [
        "!pip install \"Pillow<10.0\""
      ],
      "metadata": {
        "id": "O8Bu12ikLFFr"
      },
      "execution_count": null,
      "outputs": []
    },
    {
      "cell_type": "code",
      "metadata": {
        "id": "XJ3Az0VY3Fwt"
      },
      "source": [
        "data = dataset.dataset.get_item_from_path(img_path)\n",
        "visuals = model.inference(data)\n",
        "\n",
        "os.makedirs('results', exist_ok=True)\n",
        "out_path = os.path.join('results', os.path.splitext(img_path)[0].replace(' ', '_') + '.mp4')\n",
        "visualizer.make_video(visuals, out_path)"
      ],
      "execution_count": null,
      "outputs": []
    },
    {
      "cell_type": "markdown",
      "metadata": {
        "id": "dRCyM2i65ZdB"
      },
      "source": [
        "Let's display at the results.\n",
        "\n",
        "NOTE: if you're using chrome, uncomment the lines below. For some reason, mp4 files won't display on chrome browser, so we need to convert to webm."
      ]
    },
    {
      "cell_type": "code",
      "metadata": {
        "id": "hwjp6STO3hCz"
      },
      "source": [
        "use_webm = False\n",
        "# For some unknown reason the mp4 video is not displayed on chrome\n",
        "# If you have chrome, uncomment the following lines to convert the\n",
        "# result to webm for display purposes\n",
        "\n",
        "# !pip3 install webm\n",
        "# webm_out_path = os.path.join('results', os.path.splitext(img_path)[0].replace(' ', '_') + '.webm')\n",
        "# !webm -i $out_path $webm_out_path\n",
        "# use_webm = True\n",
        "\n",
        "from IPython.display import HTML\n",
        "from base64 import b64encode\n",
        "video_path = webm_out_path if use_webm else out_path\n",
        "video_type = \"video/webm\" if use_webm else \"video/mp4\"\n",
        "mp4 = open(video_path,'rb').read()\n",
        "data_url = \"data:video/mp4;base64,\" + b64encode(mp4).decode()\n",
        "HTML(\"\"\"\n",
        "<video width={0} controls>\n",
        "      <source src=\"{1}\" type=\"{2}\">\n",
        "</video>\n",
        "\"\"\".format(opt.fineSize, data_url, video_type))"
      ],
      "execution_count": null,
      "outputs": []
    },
    {
      "cell_type": "markdown",
      "metadata": {
        "id": "-RLnTezc59FZ"
      },
      "source": [
        "You can download the result if you want"
      ]
    },
    {
      "cell_type": "code",
      "metadata": {
        "id": "0W87da7s9FM1"
      },
      "source": [
        "files.download(out_path)"
      ],
      "execution_count": null,
      "outputs": []
    },
    {
      "cell_type": "code",
      "source": [
        "!pip install os"
      ],
      "metadata": {
        "id": "Yd67UyioNOnT"
      },
      "execution_count": null,
      "outputs": []
    },
    {
      "cell_type": "code",
      "source": [
        "file_path = \"util/preprocess_itw_im.py\"\n",
        "if not os.path.exists(file_path):\n",
        "    print(f\"Error: File {file_path} not found!\")\n",
        "else:\n",
        "    with open(file_path, 'r') as file:\n",
        "        content = file.read()\n",
        "    if \"Image.ANTIALIAS\" in content:\n",
        "        content = content.replace(\"Image.ANTIALIAS\", \"Image.Resampling.LANCZOS\")\n",
        "        with open(file_path, 'w') as file:\n",
        "            file.write(content)\n",
        "        print(\"Patched Image.ANTIALIAS to Image.Resampling.LANCZOS\")\n",
        "    else:\n",
        "        print(\"No Image.ANTIALIAS found in the file\")"
      ],
      "metadata": {
        "id": "jHY1GAP2NLvc"
      },
      "execution_count": null,
      "outputs": []
    },
    {
      "cell_type": "code",
      "source": [
        "import os\n",
        "import importlib\n",
        "from PIL import Image\n",
        "from collections import OrderedDict\n",
        "from options.test_options import TestOptions\n",
        "from data.data_loader import CreateDataLoader\n",
        "from models.models import create_model\n",
        "import util.util as util\n",
        "from util.visualizer import Visualizer\n",
        "from google.colab import files\n",
        "from IPython.display import HTML\n",
        "from base64 import b64encode\n",
        "\n",
        "# Step 1: Clone the GitHub repository\n",
        "!git clone https://github.com/royorel/Lifespan_Age_Transformation_Synthesis\n",
        "%cd Lifespan_Age_Transformation_Synthesis/\n",
        "\n",
        "# Step 2: Install required packages\n",
        "!pip install -r requirements.txt\n",
        "\n",
        "# Step 3: Patch deprecated Image.ANTIALIAS to Image.Resampling.LANCZOS\n",
        "file_path = \"util/preprocess_itw_im.py\"\n",
        "if os.path.exists(file_path):\n",
        "    with open(file_path, 'r') as file:\n",
        "        content = file.read()\n",
        "    if \"Image.ANTIALIAS\" in content:\n",
        "        content = content.replace(\"Image.ANTIALIAS\", \"Image.Resampling.LANCZOS\")\n",
        "        with open(file_path, 'w') as file:\n",
        "            file.write(content)\n",
        "        print(\"Successfully patched util/preprocess_itw_im.py\")\n",
        "    else:\n",
        "        print(\"No patch needed: Image.ANTIALIAS not found\")\n",
        "else:\n",
        "    print(f\"Error: {file_path} does not exist\")\n",
        "    # Fallback: Monkey-patch\n",
        "    Image.ANTIALIAS = Image.Resampling.LANCZOS\n",
        "    print(\"Applied monkey-patch for Image.ANTIALIAS\")\n",
        "\n",
        "# Reload the patched module\n",
        "import util.preprocess_itw_im\n",
        "importlib.reload(util.preprocess_itw_im)\n",
        "\n",
        "# Step 4: Download pretrained models\n",
        "!python download_models.py\n",
        "\n",
        "# Step 5: Set testing options\n",
        "opt = TestOptions().parse(save=False)\n",
        "opt.display_id = 0\n",
        "opt.nThreads = 1\n",
        "opt.batchSize = 1\n",
        "opt.serial_batches = True\n",
        "opt.no_flip = True\n",
        "opt.in_the_wild = True\n",
        "opt.traverse = True\n",
        "opt.interp_step = 0.05\n",
        "opt.name = 'males_model'  # Use 'females_model' for female images\n",
        "\n",
        "# Step 6: Create data loader and model\n",
        "data_loader = CreateDataLoader(opt)\n",
        "dataset = data_loader.load_data()\n",
        "visualizer = Visualizer(opt)\n",
        "model = create_model(opt)\n",
        "model.eval()\n",
        "\n",
        "# Step 7: Upload image\n",
        "uploaded = files.upload()\n",
        "for filename in uploaded.keys():\n",
        "    img_path = filename\n",
        "    print(\"Uploaded:\", img_path)\n",
        "\n",
        "# Step 8: Inference\n",
        "data = dataset.dataset.get_item_from_path(img_path)\n",
        "visuals = model.inference(data)\n",
        "\n",
        "# Step 9: Save result as video\n",
        "os.makedirs('results', exist_ok=True)\n",
        "out_path = os.path.join('results', os.path.splitext(img_path)[0].replace(' ', '_') + '.mp4')\n",
        "visualizer.make_video(visuals, out_path)\n",
        "\n",
        "# Step 10: Display result\n",
        "mp4 = open(out_path, 'rb').read()\n",
        "data_url = \"data:video/mp4;base64,\" + b64encode(mp4).decode()\n",
        "HTML(f\"\"\"\n",
        "<video width=512 controls>\n",
        "  <source src=\"{data_url}\" type=\"video/mp4\">\n",
        "</video>\n",
        "\"\"\")\n",
        "\n",
        "# Step 11: Download result\n",
        "files.download(out_path)"
      ],
      "metadata": {
        "id": "UXNQP6-9NpVr"
      },
      "execution_count": null,
      "outputs": []
    },
    {
      "cell_type": "code",
      "source": [
        "!ls /content/Lifespan_Age_Transformation_Synthesis/\n",
        "!ls /content/Lifespan_Age_Transformation_Synthesis/options/"
      ],
      "metadata": {
        "id": "tj_U89urN82i"
      },
      "execution_count": null,
      "outputs": []
    },
    {
      "cell_type": "code",
      "source": [
        "import os\n",
        "print(os.getcwd())  # Should print /content/Lifespan_Age_Transformation_Synthesis"
      ],
      "metadata": {
        "id": "H3rkITN7ODs4"
      },
      "execution_count": null,
      "outputs": []
    },
    {
      "cell_type": "code",
      "source": [
        "%cd /content/Lifespan_Age_Transformation_Synthesis"
      ],
      "metadata": {
        "id": "TXcxHeYVOK7X"
      },
      "execution_count": null,
      "outputs": []
    },
    {
      "cell_type": "code",
      "source": [
        "import sys\n",
        "sys.path.append('/content/Lifespan_Age_Transformation_Synthesis')"
      ],
      "metadata": {
        "id": "1WUhAWHzON6P"
      },
      "execution_count": null,
      "outputs": []
    },
    {
      "cell_type": "code",
      "source": [
        "!pip install -r requirements.txt"
      ],
      "metadata": {
        "id": "gXFXtE1DOR5-"
      },
      "execution_count": null,
      "outputs": []
    },
    {
      "cell_type": "code",
      "source": [
        "!cat /content/Lifespan_Age_Transformation_Synthesis/options/test_options.py"
      ],
      "metadata": {
        "id": "1h0We6vpOWGN"
      },
      "execution_count": null,
      "outputs": []
    },
    {
      "cell_type": "code",
      "source": [
        "import os\n",
        "import sys\n",
        "import importlib\n",
        "from PIL import Image\n",
        "from collections import OrderedDict\n",
        "\n",
        "# Step 1: Clone the GitHub repository\n",
        "!rm -rf /content/Lifespan_Age_Transformation_Synthesis  # Remove existing directory to avoid conflicts\n",
        "!git clone https://github.com/royorel/Lifespan_Age_Transformation_Synthesis\n",
        "%cd /content/Lifespan_Age_Transformation_Synthesis\n",
        "\n",
        "# Verify directory structure\n",
        "!ls /content/Lifespan_Age_Transformation_Synthesis\n",
        "!ls /content/Lifespan_Age_Transformation_Synthesis/options\n",
        "\n",
        "# Step 2: Add repository to Python path\n",
        "sys.path.append('/content/Lifespan_Age_Transformation_Synthesis')\n",
        "\n",
        "# Step 3: Install required packages\n",
        "!pip install -r requirements.txt\n",
        "\n",
        "# Step 4: Patch deprecated Image.ANTIALIAS to Image.Resampling.LANCZOS\n",
        "file_path = \"util/preprocess_itw_im.py\"\n",
        "if os.path.exists(file_path):\n",
        "    with open(file_path, 'r') as file:\n",
        "        content = file.read()\n",
        "    if \"Image.ANTIALIAS\" in content:\n",
        "        content = content.replace(\"Image.ANTIALIAS\", \"Image.Resampling.LANCZOS\")\n",
        "        with open(file_path, 'w') as file:\n",
        "            file.write(content)\n",
        "        print(\"Successfully patched util/preprocess_itw_im.py\")\n",
        "    else:\n",
        "        print(\"No patch needed: Image.ANTIALIAS not found\")\n",
        "else:\n",
        "    print(f\"Error: {file_path} does not exist\")\n",
        "    # Fallback: Monkey-patch\n",
        "    Image.ANTIALIAS = Image.Resampling.LANCZOS\n",
        "    print(\"Applied monkey-patch for Image.ANTIALIAS\")\n",
        "\n",
        "# Reload the patched module\n",
        "import util.preprocess_itw_im\n",
        "importlib.reload(util.preprocess_itw_im)\n",
        "\n",
        "# Step 5: Import remaining modules\n",
        "try:\n",
        "    from options.test_options import TestOptions\n",
        "    from data.data_loader import CreateDataLoader\n",
        "    from models.models import create_model\n",
        "    import util.util as util\n",
        "    from util.visualizer import Visualizer\n",
        "    from google.colab import files\n",
        "    from IPython.display import HTML\n",
        "    from base64 import b64encode\n",
        "except ModuleNotFoundError as e:\n",
        "    print(f\"Module import failed: {e}\")\n",
        "    print(\"Ensure the repository is cloned correctly and the 'options' directory exists.\")\n",
        "    raise\n",
        "\n",
        "# Step 6: Set testing options\n",
        "opt = TestOptions().parse(save=False)\n",
        "opt.display_id = 0\n",
        "opt.nThreads = 1\n",
        "opt.batchSize = 1\n",
        "opt.serial_batches = True\n",
        "opt.no_flip = True\n",
        "opt.in_the_wild = True\n",
        "opt.traverse = True\n",
        "opt.interp_step = 0.05\n",
        "opt.name = 'males_model'  # Use 'females_model' for female images\n",
        "\n",
        "# Step 7: Create data loader and model\n",
        "data_loader = CreateDataLoader(opt)\n",
        "dataset = data_loader.load_data()\n",
        "visualizer = Visualizer(opt)\n",
        "model = create_model(opt)\n",
        "model.eval()\n",
        "\n",
        "# Step 8: Upload image\n",
        "uploaded = files.upload()\n",
        "for filename in uploaded.keys():\n",
        "    img_path = filename\n",
        "    print(\"Uploaded:\", img_path)\n",
        "\n",
        "# Step 9: Inference\n",
        "data = dataset.dataset.get_item_from_path(img_path)\n",
        "visuals = model.inference(data)\n",
        "\n",
        "# Step 10: Save result as video\n",
        "os.makedirs('results', exist_ok=True)\n",
        "out_path = os.path.join('results', os.path.splitext(img_path)[0].replace(' ', '_') + '.mp4')\n",
        "visualizer.make_video(visuals, out_path)\n",
        "\n",
        "# Step 11: Display result\n",
        "mp4 = open(out_path, 'rb').read()\n",
        "data_url = \"data:video/mp4;base64,\" + b64encode(mp4).decode()\n",
        "HTML(f\"\"\"\n",
        "<video width=512 controls>\n",
        "  <source src=\"{data_url}\" type=\"video/mp4\">\n",
        "</video>\n",
        "\"\"\")\n",
        "\n",
        "# Step 12: Download result\n",
        "files.download(out_path)"
      ],
      "metadata": {
        "id": "tWkQtlMHOZyI"
      },
      "execution_count": null,
      "outputs": []
    },
    {
      "cell_type": "code",
      "source": [
        "%cd /content\n",
        "!pwd  # Should output /content"
      ],
      "metadata": {
        "id": "QvwkYsF_PWV1"
      },
      "execution_count": null,
      "outputs": []
    },
    {
      "cell_type": "code",
      "source": [
        "!rm -rf /content/Lifespan_Age_Transformation_Synthesis\n",
        "!git clone https://github.com/royorel/Lifespan_Age_Transformation_Synthesis\n",
        "%cd /content/Lifespan_Age_Transformation_Synthesis"
      ],
      "metadata": {
        "id": "oIr4fMYfPXXy"
      },
      "execution_count": null,
      "outputs": []
    },
    {
      "cell_type": "code",
      "source": [
        "!ls /content/Lifespan_Age_Transformation_Synthesis\n",
        "!ls /content/Lifespan_Age_Transformation_Synthesis/options\n",
        "!ls /content/Lifespan_Age_Transformation_Synthesis/util"
      ],
      "metadata": {
        "id": "-gs7XJxiPaI6"
      },
      "execution_count": null,
      "outputs": []
    },
    {
      "cell_type": "code",
      "source": [
        "!pip install -r requirements.txt"
      ],
      "metadata": {
        "id": "PW9SOuEUPfSF"
      },
      "execution_count": null,
      "outputs": []
    },
    {
      "cell_type": "code",
      "source": [
        "!pip install torch==1.9.0 torchvision==0.10.0 pillow==9.5.0"
      ],
      "metadata": {
        "id": "0d2f5N6OPkVX"
      },
      "execution_count": null,
      "outputs": []
    },
    {
      "cell_type": "code",
      "source": [
        "!python --version\n",
        "!cat /etc/os-release  # Check Linux distribution\n",
        "!nvcc --version  # Check CUDA version (if using GPU)"
      ],
      "metadata": {
        "id": "11TTmtGUPr1N"
      },
      "execution_count": null,
      "outputs": []
    },
    {
      "cell_type": "code",
      "source": [
        "import os\n",
        "import sys\n",
        "import importlib\n",
        "from PIL import Image\n",
        "from collections import OrderedDict\n",
        "\n",
        "# Step 1: Reset and set working directory\n",
        "%cd /content\n",
        "!rm -rf /content/Lifespan_Age_Transformation_Synthesis\n",
        "!pwd  # Verify working directory is /content\n",
        "\n",
        "# Step 2: Clone the GitHub repository\n",
        "try:\n",
        "    !git clone https://github.com/royorel/Lifespan_Age_Transformation_Synthesis\n",
        "    print(\"Repository cloned successfully\")\n",
        "except Exception as e:\n",
        "    print(f\"Failed to clone repository: {e}\")\n",
        "    raise\n",
        "\n",
        "# Step 3: Change to repository directory\n",
        "%cd /content/Lifespan_Age_Transformation_Synthesis\n",
        "!pwd  # Should output /content/Lifespan_Age_Transformation_Synthesis\n",
        "\n",
        "# Step 4: Verify directory structure\n",
        "!ls /content/Lifespan_Age_Transformation_Synthesis\n",
        "!ls /content/Lifespan_Age_Transformation_Synthesis/options\n",
        "!ls /content/Lifespan_Age_Transformation_Synthesis/util\n",
        "\n",
        "# Step 5: Add repository to Python path\n",
        "sys.path.append('/content/Lifespan_Age_Transformation_Synthesis')\n",
        "\n",
        "# Step 6: Install required packages\n",
        "try:\n",
        "    !pip install -r requirements.txt\n",
        "    print(\"Dependencies installed successfully\")\n",
        "except Exception as e:\n",
        "    print(f\"Failed to install dependencies from requirements.txt: {e}\")\n",
        "    # Install compatible versions for Python 3.11 and CUDA 12.5\n",
        "    !pip install torch==2.3.0+cu121 torchvision==0.18.0+cu121 pillow==9.5.0 -f https://download.pytorch.org/whl/torch_stable.html\n",
        "    print(\"Installed fallback dependencies: torch==2.3.0+cu121, torchvision==0.18.0+cu121, pillow==9.5.0\")\n",
        "\n",
        "# Step 7: Patch deprecated Image.ANTIALIAS to Image.Resampling.LANCZOS\n",
        "file_path = \"util/preprocess_itw_im.py\"\n",
        "if os.path.exists(file_path):\n",
        "    with open(file_path, 'r') as file:\n",
        "        content = file.read()\n",
        "    if \"Image.ANTIALIAS\" in content:\n",
        "        content = content.replace(\"Image.ANTIALIAS\", \"Image.Resampling.LANCZOS\")\n",
        "        with open(file_path, 'w') as file:\n",
        "            file.write(content)\n",
        "        print(\"Successfully patched util/preprocess_itw_im.py\")\n",
        "    else:\n",
        "        print(\"No patch needed: Image.ANTIALIAS not found\")\n",
        "else:\n",
        "    print(f\"Error: {file_path} does not exist\")\n",
        "    # Fallback: Monkey-patch\n",
        "    Image.ANTIALIAS = Image.Resampling.LANCZOS\n",
        "    print(\"Applied monkey-patch for Image.ANTIALIAS\")\n",
        "\n",
        "# Reload the patched module\n",
        "try:\n",
        "    import util.preprocess_itw_im\n",
        "    importlib.reload(util.preprocess_itw_im)\n",
        "except ModuleNotFoundError as e:\n",
        "    print(f\"Failed to import util.preprocess_itw_im: {e}\")\n",
        "    raise\n",
        "\n",
        "# Step 8: Import remaining modules\n",
        "try:\n",
        "    from options.test_options import TestOptions\n",
        "    from data.data_loader import CreateDataLoader\n",
        "    from models.models import create_model\n",
        "    import util.util as util\n",
        "    from util.visualizer import Visualizer\n",
        "    from google.colab import files\n",
        "    from IPython.display import HTML\n",
        "    from base64 import b64encode\n",
        "except ModuleNotFoundError as e:\n",
        "    print(f\"Module import failed: {e}\")\n",
        "    print(\"Ensure the repository is cloned correctly and the 'options' and 'util' directories exist.\")\n",
        "    raise\n",
        "\n",
        "# Step 9: Download pretrained models\n",
        "try:\n",
        "    !python download_models.py\n",
        "    print(\"Pretrained models downloaded successfully\")\n",
        "except Exception as e:\n",
        "    print(f\"Failed to download models: {e}\")\n",
        "    raise\n",
        "\n",
        "# Step 10: Set testing options\n",
        "opt = TestOptions().parse(save=False)\n",
        "opt.display_id = 0\n",
        "opt.nThreads = 1\n",
        "opt.batchSize = 1\n",
        "opt.serial_batches = True\n",
        "opt.no_flip = True\n",
        "opt.in_the_wild = True\n",
        "opt.traverse = True\n",
        "opt.interp_step = 0.05\n",
        "opt.name = 'males_model'  # Use 'females_model' for female images\n",
        "\n",
        "# Step 11: Create data loader and model\n",
        "data_loader = CreateDataLoader(opt)\n",
        "dataset = data_loader.load_data()\n",
        "visualizer = Visualizer(opt)\n",
        "model = create_model(opt)\n",
        "model.eval()\n",
        "\n",
        "# Step 12: Upload image\n",
        "uploaded = files.upload()\n",
        "for filename in uploaded.keys():\n",
        "    img_path = filename\n",
        "    print(\"Uploaded:\", img_path)\n",
        "\n",
        "# Step 13: Inference\n",
        "data = dataset.dataset.get_item_from_path(img_path)\n",
        "visuals = model.inference(data)\n",
        "\n",
        "# Step 14: Save result as video\n",
        "os.makedirs('results', exist_ok=True)\n",
        "out_path = os.path.join('results', os.path.splitext(img_path)[0].replace(' ', '_') + '.mp4')\n",
        "visualizer.make_video(visuals, out_path)\n",
        "\n",
        "# Step 15: Display result\n",
        "mp4 = open(out_path, 'rb').read()\n",
        "data_url = \"data:video/mp4;base64,\" + b64encode(mp4).decode()\n",
        "HTML(f\"\"\"\n",
        "<video width=512 controls>\n",
        "  <source src=\"{data_url}\" type=\"video/mp4\">\n",
        "</video>\n",
        "\"\"\")\n",
        "\n",
        "# Step 16: Download result\n",
        "files.download(out_path)"
      ],
      "metadata": {
        "id": "EHCM6C6CP8Av"
      },
      "execution_count": null,
      "outputs": []
    },
    {
      "cell_type": "code",
      "source": [
        "import os\n",
        "import sys\n",
        "import importlib\n",
        "from PIL import Image\n",
        "from collections import OrderedDict\n",
        "from IPython.display import HTML\n",
        "from base64 import b64encode\n",
        "\n",
        "# Step 1: Reset and set working directory\n",
        "%cd /content\n",
        "!rm -rf /content/Lifespan_Age_Transformation_Synthesis\n",
        "!pwd  # Verify working directory is /content\n",
        "\n",
        "# Step 2: Clone the GitHub repository\n",
        "try:\n",
        "    !git clone https://github.com/royorel/Lifespan_Age_Transformation_Synthesis\n",
        "    print(\"Repository cloned successfully\")\n",
        "except Exception as e:\n",
        "    print(f\"Failed to clone repository: {e}\")\n",
        "    raise\n",
        "\n",
        "# Step 3: Change to repository directory\n",
        "%cd /content/Lifespan_Age_Transformation_Synthesis\n",
        "!pwd  # Should output /content/Lifespan_Age_Transformation_Synthesis\n",
        "\n",
        "# Step 4: Verify directory structure\n",
        "!ls /content/Lifespan_Age_Transformation_Synthesis\n",
        "!ls /content/Lifespan_Age_Transformation_Synthesis/options\n",
        "!ls /content/Lifespan_Age_Transformation_Synthesis/util\n",
        "\n",
        "# Step 5: Add repository to Python path\n",
        "sys.path.append('/content/Lifespan_Age_Transformation_Synthesis')\n",
        "\n",
        "# Step 6: Install required packages\n",
        "try:\n",
        "    !pip install -r requirements.txt\n",
        "    print(\"Dependencies installed successfully\")\n",
        "except Exception as e:\n",
        "    print(f\"Failed to install dependencies from requirements.txt: {e}\")\n",
        "    # Install compatible versions for Python 3.11 and CUDA 12.5\n",
        "    !pip install torch==2.3.0+cu121 torchvision==0.18.0+cu121 pillow==9.5.0 -f https://download.pytorch.org/whl/torch_stable.html\n",
        "    print(\"Installed fallback dependencies: torch==2.3.0+cu121, torchvision==0.18.0+cu121, pillow==9.5.0\")\n",
        "\n",
        "# Step 7: Patch deprecated Image.ANTIALIAS to Image.Resampling.LANCZOS\n",
        "file_path = \"util/preprocess_itw_im.py\"\n",
        "if os.path.exists(file_path):\n",
        "    with open(file_path, 'r') as file:\n",
        "        content = file.read()\n",
        "    if \"Image.ANTIALIAS\" in content:\n",
        "        content = content.replace(\"Image.ANTIALIAS\", \"Image.Resampling.LANCZOS\")\n",
        "        with open(file_path, 'w') as file:\n",
        "            file.write(content)\n",
        "        print(\"Successfully patched util/preprocess_itw_im.py\")\n",
        "    else:\n",
        "        print(\"No patch needed: Image.ANTIALIAS not found\")\n",
        "else:\n",
        "    print(f\"Error: {file_path} does not exist\")\n",
        "    # Fallback: Monkey-patch\n",
        "    Image.ANTIALIAS = Image.Resampling.LANCZOS\n",
        "    print(\"Applied monkey-patch for Image.ANTIALIAS\")\n",
        "\n",
        "# Reload the patched module\n",
        "try:\n",
        "    import util.preprocess_itw_im\n",
        "    importlib.reload(util.preprocess_itw_im)\n",
        "except ModuleNotFoundError as e:\n",
        "    print(f\"Failed to import util.preprocess_itw_im: {e}\")\n",
        "    raise\n",
        "\n",
        "# Step 8: Import remaining modules\n",
        "try:\n",
        "    from options.test_options import TestOptions\n",
        "    from data.data_loader import CreateDataLoader\n",
        "    from models.models import create_model\n",
        "    import util.util as util\n",
        "    from util.visualizer import Visualizer\n",
        "    from google.colab import files\n",
        "except ModuleNotFoundError as e:\n",
        "    print(f\"Module import failed: {e}\")\n",
        "    print(\"Ensure the repository is cloned correctly and the 'options' and 'util' directories exist.\")\n",
        "    raise\n",
        "\n",
        "# Step 9: Download pretrained models\n",
        "try:\n",
        "    !python download_models.py\n",
        "    print(\"Pretrained models downloaded successfully\")\n",
        "except Exception as e:\n",
        "    print(f\"Failed to download models: {e}\")\n",
        "    raise\n",
        "\n",
        "# Step 10: Set testing options\n",
        "opt = TestOptions().parse(save=False)\n",
        "opt.display_id = 0\n",
        "opt.nThreads = 1\n",
        "opt.batchSize = 1\n",
        "opt.serial_batches = True\n",
        "opt.no_flip = True\n",
        "opt.in_the_wild = True\n",
        "opt.traverse = True\n",
        "opt.interp_step = 0.05\n",
        "opt.name = 'males_model'  # Use 'females_model' for female images\n",
        "\n",
        "# Step 11: Create data loader and model\n",
        "data_loader = CreateDataLoader(opt)\n",
        "dataset = data_loader.load_data()\n",
        "visualizer = Visualizer(opt)\n",
        "model = create_model(opt)\n",
        "model.eval()\n",
        "\n",
        "# Step 12: Upload image\n",
        "uploaded = files.upload()\n",
        "for filename in uploaded.keys():\n",
        "    img_path = filename\n",
        "    print(\"Uploaded:\", img_path)\n",
        "\n",
        "# Step 13: Inference\n",
        "data = dataset.dataset.get_item_from_path(img_path)\n",
        "visuals = model.inference(data)\n",
        "\n",
        "# Step 14: Save result as video\n",
        "os.makedirs('results', exist_ok=True)\n",
        "outwor_path = os.path.join('results', os.path.splitext(img_path)[0].replace(' ', '_') + '.mp4')\n",
        "visualizer.make_video(visuals, out_path)\n",
        "\n",
        "# Step 15: Display result in Colab\n",
        "mp4 = open(out_path, 'rb').read()\n",
        "data_url = \"data:video/mp4;base64,\" + b64encode(mp4).decode()\n",
        "HTML(f\"\"\"\n",
        "<video width=512 controls>\n",
        "  <source src=\"{data_url}\" type=\"video/mp4\">\n",
        "</video>\n",
        "\"\"\")"
      ],
      "metadata": {
        "id": "NmoqTh0VR3XW"
      },
      "execution_count": null,
      "outputs": []
    },
    {
      "cell_type": "code",
      "source": [
        "import os\n",
        "import sys\n",
        "import importlib\n",
        "from PIL import Image\n",
        "from collections import OrderedDict\n",
        "from IPython.display import HTML, Video, Image as IPImage\n",
        "from base64 import b64encode\n",
        "import cv2  # For video inspection\n",
        "import numpy as np\n",
        "\n",
        "# Step 1: Reset and set working directory\n",
        "%cd /content\n",
        "!rm -rf /content/Lifespan_Age_Transformation_Synthesis\n",
        "!pwd  # Verify working directory is /content\n",
        "\n",
        "# Step 2: Clone the GitHub repository\n",
        "try:\n",
        "    !git clone https://github.com/royorel/Lifespan_Age_Transformation_Synthesis\n",
        "    print(\"Repository cloned successfully\")\n",
        "except Exception as e:\n",
        "    print(f\"Failed to clone repository: {e}\")\n",
        "    raise\n",
        "\n",
        "# Step 3: Change to repository directory\n",
        "%cd /content/Lifespan_Age_Transformation_Synthesis\n",
        "!pwd  # Should output /content/Lifespan_Age_Transformation_Synthesis\n",
        "\n",
        "# Step 4: Verify directory structure\n",
        "!ls /content/Lifespan_Age_Transformation_Synthesis\n",
        "!ls /content/Lifespan_Age_Transformation_Synthesis/options\n",
        "!ls /content/Lifespan_Age_Transformation_Synthesis/util\n",
        "\n",
        "# Step 5: Add repository to Python path\n",
        "sys.path.append('/content/Lifespan_Age_Transformation_Synthesis')\n",
        "\n",
        "# Step 6: Install required packages\n",
        "try:\n",
        "    !pip install -r requirements.txt\n",
        "    !pip install opencv-python  # Ensure OpenCV is installed\n",
        "    print(\"Dependencies installed successfully\")\n",
        "except Exception as e:\n",
        "    print(f\"Failed to install dependencies from requirements.txt: {e}\")\n",
        "    # Install compatible versions for Python 3.11 and CUDA 12.5\n",
        "    !pip install torch==2.3.0+cu121 torchvision==0.18.0+cu121 pillow==9.5.0 opencv-python -f https://download.pytorch.org/whl/torch_stable.html\n",
        "    print(\"Installed fallback dependencies: torch==2.3.0+cu121, torchvision==0.18.0+cu121, pillow==9.5.0, opencv-python\")\n",
        "\n",
        "# Verify OpenCV installation\n",
        "try:\n",
        "    print(f\"OpenCV version: {cv2.__version__}\")\n",
        "except ImportError:\n",
        "    print(\"OpenCV not installed correctly\")\n",
        "    raise\n",
        "\n",
        "# Step 7: Patch deprecated Image.ANTIALIAS to Image.Resampling.LANCZOS\n",
        "file_path = \"util/preprocess_itw_im.py\"\n",
        "if os.path.exists(file_path):\n",
        "    with open(file_path, 'r') as file:\n",
        "        content = file.read()\n",
        "    if \"Image.ANTIALIAS\" in content:\n",
        "        content = content.replace(\"Image.ANTIALIAS\", \"Image.Resampling.LANCZOS\")\n",
        "        with open(file_path, 'w') as file:\n",
        "            file.write(content)\n",
        "        print(\"Successfully patched util/preprocess_itw_im.py\")\n",
        "    else:\n",
        "        print(\"No patch needed: Image.ANTIALIAS not found\")\n",
        "else:\n",
        "    print(f\"Error: {file_path} does not exist\")\n",
        "    # Fallback: Monkey-patch\n",
        "    Image.ANTIALIAS = Image.Resampling.LANCZOS\n",
        "    print(\"Applied monkey-patch for Image.ANTIALIAS\")\n",
        "\n",
        "# Reload the patched module\n",
        "try:\n",
        "    import util.preprocess_itw_im\n",
        "    importlib.reload(util.preprocess_itw_im)\n",
        "except ModuleNotFoundError as e:\n",
        "    print(f\"Failed to import util.preprocess_itw_im: {e}\")\n",
        "    raise\n",
        "\n",
        "# Step 8: Import remaining modules\n",
        "try:\n",
        "    from options.test_options import TestOptions\n",
        "    from data.data_loader import CreateDataLoader\n",
        "    from models.models import create_model\n",
        "    import util.util as util\n",
        "    from util.visualizer import Visualizer\n",
        "    from google.colab import files\n",
        "except ModuleNotFoundError as e:\n",
        "    print(f\"Module import failed: {e}\")\n",
        "    print(\"Ensure the repository is cloned correctly and the 'options' and 'util' directories exist.\")\n",
        "    raise\n",
        "\n",
        "# Step 9: Download pretrained models\n",
        "try:\n",
        "    !python download_models.py\n",
        "    print(\"Pretrained models downloaded successfully\")\n",
        "except Exception as e:\n",
        "    print(f\"Failed to download models: {e}\")\n",
        "    raise\n",
        "\n",
        "# Step 10: Set testing options\n",
        "opt = TestOptions().parse(save=False)\n",
        "opt.display_id = 0\n",
        "opt.nThreads = 1\n",
        "opt.batchSize = 1\n",
        "opt.serial_batches = True\n",
        "opt.no_flip = True\n",
        "opt.in_the_wild = True\n",
        "opt.traverse = True\n",
        "opt.interp_step = 0.05\n",
        "opt.name = 'males_model'  # Use 'females_model' for female images\n",
        "\n",
        "# Step 11: Create data loader and model\n",
        "try:\n",
        "    data_loader = CreateDataLoader(opt)\n",
        "    dataset = data_loader.load_data()\n",
        "    visualizer = Visualizer(opt)\n",
        "    model = create_model(opt)\n",
        "    model.eval()\n",
        "except Exception as e:\n",
        "    print(f\"Failed to initialize data loader or model: {e}\")\n",
        "    raise\n",
        "\n",
        "# Step 12: Upload image\n",
        "try:\n",
        "    uploaded = files.upload()\n",
        "    for filename in uploaded.keys():\n",
        "        img_path = filename\n",
        "        print(\"Uploaded:\", img_path)\n",
        "except Exception as e:\n",
        "    print(f\"Failed to upload image: {e}\")\n",
        "    raise\n",
        "\n",
        "# Step 13: Inference\n",
        "try:\n",
        "    data = dataset.dataset.get_item_from_path(img_path)\n",
        "    visuals = model.inference(data)\n",
        "    print(\"Inference completed. Visuals keys:\", list(visuals.keys()))\n",
        "except Exception as e:\n",
        "    print(f\"Inference failed: {e}\")\n",
        "    raise\n",
        "\n",
        "# Step 14: Save result as video\n",
        "try:\n",
        "    os.makedirs('results', exist_ok=True)\n",
        "    out_path = os.path.join('results', os.path.splitext(img_path)[0].replace(' ', '_') + '.mp4')\n",
        "    visualizer.make_video(visuals, out_path)\n",
        "    print(f\"Video saved to: {out_path}\")\n",
        "except Exception as e:\n",
        "    print(f\"Failed to generate video: {e}\")\n",
        "    raise\n",
        "\n",
        "# Step 15: Verify video file\n",
        "if os.path.exists(out_path):\n",
        "    file_size = os.path.getsize(out_path)\n",
        "    print(f\"Video file size: {file_size / 1024 / 1024:.2f} MB\")\n",
        "    if file_size < 1024:  # Check if file is too small (likely empty or corrupted)\n",
        "        print(\"Warning: Video file is very small and may be corrupted.\")\n",
        "else:\n",
        "    print(f\"Error: Video file {out_path} does not exist.\")\n",
        "    raise FileNotFoundError(f\"Video file {out_path} not found\")\n",
        "\n",
        "# Step 16: Check video validity with OpenCV\n",
        "try:\n",
        "    cap = cv2.VideoCapture(out_path)\n",
        "    if cap.isOpened():\n",
        "        frame_count = int(cap.get(cv2.CAP_PROP_FRAME_COUNT))\n",
        "        fps = cap.get(cv2.CAP_PROP_FPS)\n",
        "        width = int(cap.get(cv2.CAP_PROP_FRAME_WIDTH))\n",
        "        height = int(cap.get(cv2.CAP_PROP_FRAME_HEIGHT))\n",
        "        print(f\"Video details: {frame_count} frames, {fps:.2f} FPS, {width}x{height} resolution\")\n",
        "        cap.release()\n",
        "    else:\n",
        "        print(\"Error: Video file could not be opened with OpenCV.\")\n",
        "except Exception as e:\n",
        "    print(f\"Failed to read video with OpenCV: {e}\")\n",
        "\n",
        "# Step 17: Display result in Colab (Method 1: IPython.display.Video)\n",
        "try:\n",
        "    print(\"Displaying video using IPython.display.Video method...\")\n",
        "    display(Video(out_path, embed=True, width=512))\n",
        "except Exception as e:\n",
        "    print(f\"Failed to display video with IPython.display.Video method: {e}\")\n",
        "\n",
        "# Step 18: Display result in Colab (Method 2: HTML)\n",
        "try:\n",
        "    with open(out_path, 'rb') as mp4:\n",
        "        data_url = \"data:video/mp4;base64,\" + b64encode(mp4.read()).decode()\n",
        "    print(\"Displaying video using HTML method...\")\n",
        "    display(HTML(f\"\"\"\n",
        "    <video width=512 controls>\n",
        "      <source src=\"{data_url}\" type=\"video/mp4\">\n",
        "    </video>\n",
        "    \"\"\"))\n",
        "except Exception as e:\n",
        "    print(f\"Failed to display video with HTML method: {e}\")\n",
        "\n",
        "# Step 19: Fallback - Display first frame if video fails\n",
        "try:\n",
        "    if os.path.exists(out_path):\n",
        "        cap = cv2.VideoCapture(out_path)\n",
        "        ret, frame = cap.read()\n",
        "        if ret:\n",
        "            # Convert BGR to RGB for display\n",
        "            frame_rgb = cv2.cvtColor(frame, cv2.COLOR_BGR2RGB)\n",
        "            # Save frame temporarily for display\n",
        "            temp_frame_path = 'results/temp_frame.jpg'\n",
        "            cv2.imwrite(temp_frame_path, frame_rgb)\n",
        "            print(\"Displaying first frame of video as fallback...\")\n",
        "            display(IPImage(temp_frame_path))\n",
        "        else:\n",
        "            print(\"Error: Could not read first frame of video.\")\n",
        "        cap.release()\n",
        "    else:\n",
        "        print(\"Error: Video file not found for frame extraction.\")\n",
        "except Exception as e:\n",
        "    print(f\"Failed to display first frame: {e}\")\n",
        "    print(\"Please check if the video file is valid. You can try downloading it manually from the Colab file explorer.\")"
      ],
      "metadata": {
        "id": "jfXt3yIYStvr"
      },
      "execution_count": null,
      "outputs": []
    }
  ]
}